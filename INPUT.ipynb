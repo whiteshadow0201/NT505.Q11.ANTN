{
 "cells": [
  {
   "metadata": {
    "jupyter": {
     "is_executing": true
    }
   },
   "cell_type": "code",
   "source": [
    "import numpy as np\n",
    "from queue import PriorityQueue\n",
    "from utils import *\n",
    "import random\n",
    "from copy import deepcopy\n",
    "import torch\n",
    "import torch.nn as nn\n",
    "import torch.optim as optim\n",
    "from collections import deque\n",
    "import matplotlib.pyplot as plt\n",
    "\n",
    "import torch\n",
    "import torch.nn.functional as F\n",
    "from torch_geometric.utils import from_networkx\n",
    "import networkx as nx\n",
    "from torch_geometric.nn import SAGEConv, global_mean_pool\n",
    "from torch_geometric.utils import negative_sampling\n"
   ],
   "id": "d5cb089e0b988bf1",
   "outputs": [],
   "execution_count": null
  },
  {
   "metadata": {
    "collapsed": true,
    "ExecuteTime": {
     "end_time": "2025-09-25T10:33:09.413652Z",
     "start_time": "2025-09-25T10:33:09.191502Z"
    }
   },
   "cell_type": "code",
   "source": [
    "import networkx as nx\n",
    "\n",
    "# --- Step 1: Create directed graph ---\n",
    "G_original = nx.DiGraph()\n",
    "G_original.add_nodes_from([\"Attacker\", \"Data Server\", \"Pad\", \"Web Server\", \"Host 1\", \"Host 2\", \"Host 3\", \"File Server\"])\n",
    "\n",
    "# --- Step 2: Add node attributes (priority + state) ---\n",
    "# Example initialization: state = 0 (normal), 1 (alert)\n",
    "# priority = 1-10 (importance scale, can adjust per node)\n",
    "node_attributes = {\n",
    "    \"Attacker\":   {\"state\": 1, \"priority\": 10},  # attacker always active\n",
    "    \"Data Server\": {\"state\": 0, \"priority\": 9},\n",
    "    \"Pad\":        {\"state\": 0, \"priority\": 3},\n",
    "    \"Web Server\": {\"state\": 0, \"priority\": 6},\n",
    "    \"Host 1\":     {\"state\": 0, \"priority\": 4},\n",
    "    \"Host 2\":     {\"state\": 0, \"priority\": 5},\n",
    "    \"Host 3\":     {\"state\": 0, \"priority\": 5},\n",
    "    \"File Server\": {\"state\": 0, \"priority\": 7},\n",
    "}\n",
    "nx.set_node_attributes(G_original, node_attributes)\n",
    "\n",
    "# --- Step 3: Add edges with weights ---\n",
    "edges = [\n",
    "    (\"Attacker\", \"Pad\", {\"user\": 0.6, \"root\": 0.6}),\n",
    "    (\"Attacker\", \"Web Server\", {\"user\": 0.8, \"root\": 0.6}),\n",
    "    (\"Attacker\", \"Host 1\", {\"user\": 0.6, \"root\": 0.48}),\n",
    "    (\"Pad\", \"Host 1\", {\"user\": 0.6, \"root\": 0.48}),\n",
    "    (\"Pad\", \"Host 2\", {\"user\": 0.32, \"root\": 0.32}),\n",
    "    (\"Pad\", \"Host 3\", {\"user\": 0.32, \"root\": 0.32}),\n",
    "    (\"Pad\", \"Web Server\", {\"user\": 0.8, \"root\": 0.6}),\n",
    "    (\"Host 1\", \"Pad\", {\"user\": 0.6, \"root\": 0.6}),\n",
    "    (\"Host 1\", \"Web Server\", {\"user\": 0.8, \"root\": 0.6}),\n",
    "    (\"Host 1\", \"Host 2\", {\"user\": 0.32, \"root\": 0.32}),\n",
    "    (\"Host 1\", \"Host 3\", {\"user\": 0.32, \"root\": 0.32}),\n",
    "    (\"Host 2\", \"Host 3\", {\"user\": 0.8, \"root\": 0.8}),\n",
    "    (\"Host 2\", \"File Server\", {\"user\": 0.8, \"root\": 0.6}),\n",
    "    (\"Host 2\", \"Data Server\", {\"user\": 0.8, \"root\": 0.6}),\n",
    "    (\"Host 3\", \"Host 2\", {\"user\": 0.8, \"root\": 0.8}),\n",
    "    (\"Host 3\", \"File Server\", {\"user\": 0.8, \"root\": 0.6}),\n",
    "    (\"Host 3\", \"Data Server\", {\"user\": 0.8, \"root\": 0.6}),\n",
    "    (\"Web Server\", \"File Server\", {\"user\": 0.8, \"root\": 0.04}),\n",
    "    (\"Web Server\", \"Data Server\", {\"user\": 0.8, \"root\": 0.04}),\n",
    "    (\"File Server\", \"Data Server\", {\"user\": 0.8, \"root\": 0.04})\n",
    "]\n",
    "G_original.add_edges_from(edges)\n",
    "\n"
   ],
   "id": "initial_id",
   "outputs": [],
   "execution_count": 1
  },
  {
   "metadata": {
    "ExecuteTime": {
     "end_time": "2025-09-25T10:33:15.278097Z",
     "start_time": "2025-09-25T10:33:09.428225Z"
    }
   },
   "cell_type": "code",
   "source": [
    "import torch\n",
    "from torch_geometric.utils import from_networkx\n",
    "\n",
    "# Convert networkx -> PyG Data\n",
    "data = from_networkx(G_original)\n",
    "\n",
    "# At this point, node attributes & edge attributes become tensors if they are numeric\n",
    "print(data)\n"
   ],
   "id": "8c99db4987402a0d",
   "outputs": [
    {
     "name": "stdout",
     "output_type": "stream",
     "text": [
      "Data(edge_index=[2, 20], state=[8], priority=[8], user=[20], root=[20], num_nodes=8)\n"
     ]
    }
   ],
   "execution_count": 2
  },
  {
   "metadata": {
    "ExecuteTime": {
     "end_time": "2025-09-25T10:33:31.422893Z",
     "start_time": "2025-09-25T10:33:31.412577Z"
    }
   },
   "cell_type": "code",
   "source": [
    "# --- Step 1: Convert networkx to PyG ---\n",
    "# Your graph is directed, but PyG expects undirected for GraphSAGE (you can keep it directed if meaningful)\n",
    "# G_undirected = G.to_undirected()\n",
    "\n",
    "# Convert and keep edge attributes\n",
    "data = from_networkx(G_original)\n",
    "\n",
    "# --- Step 2: Add node features ---\n",
    "# If you don’t have real features, use one-hot encoding (identity matrix)\n",
    "num_nodes = G_original.number_of_nodes()\n",
    "data.x = torch.eye(num_nodes, dtype=torch.float)\n",
    "\n",
    "# Example: Assign label (optional, for supervised learning)\n",
    "# Let's say \"Data Server\" = target class (label 1), others = 0\n",
    "node_mapping = {n: i for i, n in enumerate(G_original.nodes())}\n",
    "labels = torch.zeros(num_nodes, dtype=torch.long)\n",
    "labels[node_mapping[\"Data Server\"]] = 1\n",
    "data.y = labels"
   ],
   "id": "881e4dc63077b37b",
   "outputs": [],
   "execution_count": 3
  },
  {
   "metadata": {
    "ExecuteTime": {
     "end_time": "2025-09-25T10:33:32.759836Z",
     "start_time": "2025-09-25T10:33:32.749460Z"
    }
   },
   "cell_type": "code",
   "source": [
    "import torch\n",
    "import torch.nn.functional as F\n",
    "from torch_geometric.nn import NNConv, global_mean_pool\n",
    "\n",
    "class EdgeGraphSAGE(torch.nn.Module):\n",
    "    def __init__(self, node_in_dim, edge_in_dim, hidden_dim, embedding_dim):\n",
    "        super().__init__()\n",
    "        # MLP to transform edge_attr into weights for message passing\n",
    "        nn1 = torch.nn.Sequential(\n",
    "            torch.nn.Linear(edge_in_dim, hidden_dim * node_in_dim),\n",
    "            torch.nn.ReLU(),\n",
    "            torch.nn.Linear(hidden_dim * node_in_dim, hidden_dim)\n",
    "        )\n",
    "        self.conv1 = NNConv(node_in_dim, hidden_dim, nn1, aggr='mean')\n",
    "\n",
    "        nn2 = torch.nn.Sequential(\n",
    "            torch.nn.Linear(edge_in_dim, hidden_dim * hidden_dim),\n",
    "            torch.nn.ReLU(),\n",
    "            torch.nn.Linear(hidden_dim * hidden_dim, embedding_dim)\n",
    "        )\n",
    "        self.conv2 = NNConv(hidden_dim, embedding_dim, nn2, aggr='mean')\n",
    "\n",
    "    def forward(self, x, edge_index, edge_attr, batch):\n",
    "        x = self.conv1(x, edge_index, edge_attr)\n",
    "        x = F.relu(x)\n",
    "        x = self.conv2(x, edge_index, edge_attr)\n",
    "        graph_emb = global_mean_pool(x, batch)  # Graph-level embedding\n",
    "        return graph_emb\n"
   ],
   "id": "7959046ec71656ea",
   "outputs": [],
   "execution_count": 4
  },
  {
   "metadata": {
    "ExecuteTime": {
     "end_time": "2025-09-25T10:36:17.077240Z",
     "start_time": "2025-09-25T10:36:17.042288Z"
    }
   },
   "cell_type": "code",
   "source": [
    "# --- Step 4: Train the model ---\n",
    "embedding_dim = 64\n",
    "device = torch.device(\"cuda\" if torch.cuda.is_available() else \"cpu\")\n",
    "\n",
    "node_in_dim = data.x.size(1)             # node feature dimension\n",
    "edge_in_dim = data.edge_attr.size(1)     # edge feature dimension\n",
    "\n",
    "model = EdgeGraphSAGE(node_in_dim, 32, embedding_dim, edge_in_dim).to(device)\n",
    "data = data.to(device)\n",
    "optimizer = torch.optim.Adam(model.parameters(), lr=0.01)\n",
    "\n",
    "Q = 5  # number of negative samples per positive edge\n",
    "\n",
    "for epoch in range(100):\n",
    "    model.train()\n",
    "    optimizer.zero_grad()\n",
    "\n",
    "    # Node embeddings\n",
    "    z = model(data.x, data.edge_index, data.edge_attr)  # [num_nodes, embedding_dim]\n",
    "\n",
    "    # Positive edges = real graph edges\n",
    "    pos_edge_index = data.edge_index\n",
    "\n",
    "    # Sample Q * num_pos_edges negatives\n",
    "    neg_edge_index = negative_sampling(\n",
    "        edge_index=pos_edge_index,\n",
    "        num_nodes=data.num_nodes,\n",
    "        num_neg_samples=Q * pos_edge_index.size(1),\n",
    "        method='sparse'\n",
    "    )\n",
    "\n",
    "    # ---- Positive loss ----\n",
    "    pos_score = (z[pos_edge_index[0]] * z[pos_edge_index[1]]).sum(dim=-1)  # dot product\n",
    "    pos_loss = -torch.log(torch.sigmoid(pos_score) + 1e-15).mean()\n",
    "\n",
    "    # ---- Negative loss ----\n",
    "    neg_score = (z[neg_edge_index[0]] * z[neg_edge_index[1]]).sum(dim=-1)\n",
    "    neg_loss = -torch.log(torch.sigmoid(-neg_score) + 1e-15).mean()\n",
    "\n",
    "    # Full loss = positive + Q * negative expectation\n",
    "    loss = pos_loss + Q * neg_loss   # <-- fixed here\n",
    "\n",
    "    loss.backward()\n",
    "    optimizer.step()\n",
    "\n",
    "    if epoch % 20 == 0:\n",
    "        print(f\"Epoch {epoch}, Loss {loss.item():.4f}\")\n"
   ],
   "id": "6fb45774b61c2d30",
   "outputs": [
    {
     "ename": "AttributeError",
     "evalue": "'NoneType' object has no attribute 'size'",
     "output_type": "error",
     "traceback": [
      "\u001B[0;31m---------------------------------------------------------------------------\u001B[0m",
      "\u001B[0;31mAttributeError\u001B[0m                            Traceback (most recent call last)",
      "Cell \u001B[0;32mIn[7], line 6\u001B[0m\n\u001B[1;32m      3\u001B[0m device \u001B[38;5;241m=\u001B[39m torch\u001B[38;5;241m.\u001B[39mdevice(\u001B[38;5;124m\"\u001B[39m\u001B[38;5;124mcuda\u001B[39m\u001B[38;5;124m\"\u001B[39m \u001B[38;5;28;01mif\u001B[39;00m torch\u001B[38;5;241m.\u001B[39mcuda\u001B[38;5;241m.\u001B[39mis_available() \u001B[38;5;28;01melse\u001B[39;00m \u001B[38;5;124m\"\u001B[39m\u001B[38;5;124mcpu\u001B[39m\u001B[38;5;124m\"\u001B[39m)\n\u001B[1;32m      5\u001B[0m node_in_dim \u001B[38;5;241m=\u001B[39m data\u001B[38;5;241m.\u001B[39mx\u001B[38;5;241m.\u001B[39msize(\u001B[38;5;241m1\u001B[39m)             \u001B[38;5;66;03m# node feature dimension\u001B[39;00m\n\u001B[0;32m----> 6\u001B[0m edge_in_dim \u001B[38;5;241m=\u001B[39m \u001B[43mdata\u001B[49m\u001B[38;5;241;43m.\u001B[39;49m\u001B[43medge_attr\u001B[49m\u001B[38;5;241;43m.\u001B[39;49m\u001B[43msize\u001B[49m(\u001B[38;5;241m1\u001B[39m)     \u001B[38;5;66;03m# edge feature dimension\u001B[39;00m\n\u001B[1;32m      8\u001B[0m model \u001B[38;5;241m=\u001B[39m EdgeGraphSAGE(node_in_dim, \u001B[38;5;241m32\u001B[39m, embedding_dim, edge_in_dim)\u001B[38;5;241m.\u001B[39mto(device)\n\u001B[1;32m      9\u001B[0m data \u001B[38;5;241m=\u001B[39m data\u001B[38;5;241m.\u001B[39mto(device)\n",
      "\u001B[0;31mAttributeError\u001B[0m: 'NoneType' object has no attribute 'size'"
     ]
    }
   ],
   "execution_count": 7
  },
  {
   "metadata": {},
   "cell_type": "code",
   "source": "",
   "id": "b8be70113d1e01e9",
   "outputs": [],
   "execution_count": null
  }
 ],
 "metadata": {
  "kernelspec": {
   "display_name": "Python 3",
   "language": "python",
   "name": "python3"
  },
  "language_info": {
   "codemirror_mode": {
    "name": "ipython",
    "version": 2
   },
   "file_extension": ".py",
   "mimetype": "text/x-python",
   "name": "python",
   "nbconvert_exporter": "python",
   "pygments_lexer": "ipython2",
   "version": "2.7.6"
  }
 },
 "nbformat": 4,
 "nbformat_minor": 5
}
